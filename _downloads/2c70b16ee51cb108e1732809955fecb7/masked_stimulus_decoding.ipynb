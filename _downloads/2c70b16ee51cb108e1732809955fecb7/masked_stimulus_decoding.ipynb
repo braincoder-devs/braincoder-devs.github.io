{
  "cells": [
    {
      "cell_type": "markdown",
      "metadata": {},
      "source": [
        "\n# Stimulus decoding using stimulus mask\n\nIt can be helpful to _constrain_ the decoding of a stimulus.\nFor example, we might no be interested in decoding the location\nof the stimulus, but, rather, want to know which part of the stimulus\nshow most drive.\n\nHere we give a small example of that.\n"
      ]
    },
    {
      "cell_type": "code",
      "execution_count": null,
      "metadata": {
        "collapsed": false
      },
      "outputs": [],
      "source": [
        "from braincoder.utils.data import load_szinte2024\nfrom braincoder.models import GaussianPRF2DWithHRF\nfrom braincoder.optimize import ResidualFitter\nfrom braincoder.hrf import SPMHRFModel\n\nds = load_szinte2024(best_voxels=200)\n\nstimulus = ds['stimulus']\ngrid_coordinates = ds['grid_coordinates']\ntr = ds['tr']\nprf_pars = ds['prf_pars']\ndata = ds['v1_timeseries']\n\n\nmodel = GaussianPRF2DWithHRF(grid_coordinates=grid_coordinates,\n                      paradigm=stimulus,\n                      parameters=prf_pars,\n                    hrf_model=SPMHRFModel(tr=tr))\n\n\nresid_fitter = ResidualFitter(model, data, stimulus, parameters=prf_pars)\nomega, dof = resid_fitter.fit()\n\nfrom braincoder.optimize import StimulusFitter\nstim_fitter = StimulusFitter(data, model, omega)\n\n\n# Note how we use the original stimulus as a mask to only fit the stimulus at the locations where it was actually presented\nreconstructed_stimulus = stim_fitter.fit(legacy_adam=True, min_n_iterations=1000, max_n_iterations=2000, learning_rate=.05, mask=(stimulus > 0.1))\n\nimport matplotlib.pyplot as plt\nfrom matplotlib.animation import FuncAnimation\nfrom IPython.display import HTML\nimport numpy as np\n\ndef play_reconstruction(reconstructed_stimulus):\n\n  # Here we make a movie of the decoded stimulus\n  # Set up a function to draw a single frame\n  vmin, vmax = 0.0, np.quantile(reconstructed_stimulus.values.ravel(), 0.99)\n\n  def update(frame):\n      plt.clf()  # Clear the current figure\n      plt.imshow(reconstructed_stimulus.loc[frame].values.reshape((stimulus.shape[1:])).T, cmap='viridis', vmin=vmin, vmax=vmax, origin='upper')\n      plt.axis('off')\n      plt.title(f\"Frame {frame}\")\n\n  # Create the animation\n  fig = plt.figure()\n  ani = FuncAnimation(fig, update, frames=range(stimulus.shape[0]), interval=100)\n\n  return HTML(ani.to_html5_video())\n\nplay_reconstruction(reconstructed_stimulus)\n\n# %%"
      ]
    }
  ],
  "metadata": {
    "kernelspec": {
      "display_name": "Python 3",
      "language": "python",
      "name": "python3"
    },
    "language_info": {
      "codemirror_mode": {
        "name": "ipython",
        "version": 3
      },
      "file_extension": ".py",
      "mimetype": "text/x-python",
      "name": "python",
      "nbconvert_exporter": "python",
      "pygments_lexer": "ipython3",
      "version": "3.10.9"
    }
  },
  "nbformat": 4,
  "nbformat_minor": 0
}