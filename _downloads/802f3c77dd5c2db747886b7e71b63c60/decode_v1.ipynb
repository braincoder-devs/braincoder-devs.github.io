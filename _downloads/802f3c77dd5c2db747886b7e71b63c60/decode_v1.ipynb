{
  "cells": [
    {
      "cell_type": "markdown",
      "metadata": {},
      "source": [
        "\n# Recontruct a 2D stimulus\nBla.\n"
      ]
    },
    {
      "cell_type": "code",
      "execution_count": null,
      "metadata": {
        "collapsed": false
      },
      "outputs": [],
      "source": [
        "# \"\"\"\n# Decode visual stimulus\n# =============================================\n\n# Here we decode a 2D stimulus from te Szinte (2024)-dataset.\n# \"\"\"\n\n# import matplotlib.pyplot as plt\n# from matplotlib.animation import FuncAnimation\n# from IPython.display import HTML, display\n\n# from braincoder.utils.data import load_szinte2024\n# import numpy as np\n# import pandas as pd\n\n# # Load data (high-res for PRF fitting)\n# data = load_szinte2024()\n# stimulus = data['stimulus']\n# grid_coordinates = data['grid_coordinates']\n\n\n# # Set up a PRF model\n# # Now we will set up fake PRFs just to show how the data is structured\n# # We make a 9-by-9 grid of simulated PRFs\n# x, y = np.meshgrid(np.linspace(-6, 6, 3), np.linspace(-4, 4, 3))\n\n# # Set them up in a parameter table\n# # All PRFs have the same baseline and amplitude\n# from braincoder.models import GaussianPRF2DWithHRF\n# from braincoder.hrf import SPMHRFModel\n\n# parameters = pd.DataFrame({'x':x.ravel(),\n#                'y':y.ravel(),\n#                'sd':2.5,\n#                'baseline':0.0,\n#                'amplitude':1.}).astype(np.float32)\n# model = GaussianPRF2DWithHRF(grid_coordinates=grid_coordinates, \n#                       paradigm=stimulus,\n#                      parameters=parameters,\n#                     hrf_model=SPMHRFModel(tr=data['tr']))\n# # %%\n\n# # Let's plot all the RFs\n# rfs = model.get_rf(as_frame=True)\n\n# for i, rf in rfs.groupby(level=0):\n#     plt.subplot(3, 3, i+1)\n#     plt.title(f'RF {i+1}')\n#     plt.imshow(rf.unstack('y').loc[i].T)\n#     plt.axis('off')\n\n# # %%\n\n# # We simulate data for the given paradigm and parameters and plot the resulting time series\n# import seaborn as sns\n# data = model.simulate(noise=1.)\n# data.columns.set_names('voxel', inplace=True)\n# tmp = data.stack().to_frame('activity')\n# sns.relplot(x='frame', y='activity', data=tmp.reset_index(), hue='voxel', kind='line', palette=sns.color_palette('tab10', n_colors=parameters.shape[0]), aspect=2.)\n\n# # %%\n\n# # We can also fit parameters back to data\n# from braincoder.optimize import ParameterFitter\n\n# # We set up a parameter fitter\n# par_fitter = ParameterFitter(model, data, stimulus)\n\n# # We set up a grid of parameters to search over\n# x = np.linspace(-8, 8, 20)\n# y = np.linspace(-4, 4, 20)\n# sd = np.linspace(1, 5, 10)\n\n# # For now, we only use one amplitude and baseline, because we\n# # use a correlation cost function, which is indifferent to\n# # the overall scaling of the model\n# # We can easily estimate these later using OLS\n# amplitudes = [1.0]\n# baseline = [0.0]\n\n# # Note that the grids should be given in the correct order (can be found back in\n# # model.parameter_labels)\n# grid_pars = par_fitter.fit_grid(x, y, sd, baseline, amplitudes, use_correlation_cost=True)\n\n# # Once we have the best parameters from the grid, we can optimize the baseline\n# # and amplitude\n# refined_grid_pars = par_fitter.refine_baseline_and_amplitude(grid_pars)\n\n# # We get the explained variance of these parameters\n# from braincoder.utils import get_rsq\n# refined_grid_r2 = get_rsq(data, model.predict(parameters=refined_grid_pars))\n\n# # Now we use gradient descent to further optimize the parameters\n# pars = par_fitter.fit(init_pars=refined_grid_pars, learning_rate=1e-2, max_n_iterations=5000,\n#         min_n_iterations=100,\n#         r2_atol=0.0001)\n\n# fitted_r2 = get_rsq(data, model.predict(parameters=pars))\n\n# # The fitted R2s tend to be a bit better than the grid R2s\n# display(refined_grid_r2.to_frame('r2').join(fitted_r2.to_frame('r2'), lsuffix='_grid', rsuffix='_fitted'))\n\n# # The real parameters are very similar to the estimated parameters\n# display(pars.join(parameters, lsuffix='_fit', rsuffix='_true'))\n\n# # %%\n\n# # Decode the *stimulus* from \"unseen\" data:\n# # First we need to fit a noise model\n# from braincoder.optimize import ResidualFitter\n# resid_fitter = ResidualFitter(model, data, stimulus, parameters=pars)\n# omega, dof = resid_fitter.fit()\n\n# # Simulate new \"unseen\" data\n# unseen_data = model.simulate(noise=1.)\n\n# # For stimulus reconstruction, we slightly downsample the stimulus space\n# # otherwise the optimization takes too long on a CPU\n# # we can do that by simply setting up a new model with a different grid\n# data = load_szinte2024(resize_factor=2.5)\n# grid_coordinates = data['grid_coordinates']\n# stimulus = data['stimulus']\n\n# model = GaussianPRF2DWithHRF(grid_coordinates=grid_coordinates, \n#                      parameters=parameters,\n#                     hrf_model=SPMHRFModel(tr=data['tr']))\n\n# # We set up a stimulus fitter\n# from braincoder.optimize import StimulusFitter\n# stim_fitter = StimulusFitter(unseen_data, model, omega)\n\n# # Legacy Adam is a bit faster than the default Adam optimizer on M1\n# # Learning rate of 1.0 is a bit high, but works well here\n# reconstructed_stimulus = stim_fitter.fit(legacy_adam=True, min_n_iterations=200, max_n_iterations=1000, learning_rate=1.)\n\n# # Here we make a movie of the decoded stimulus\n# # Set up a function to draw a single frame\n# vmin, vmax = reconstructed_stimulus.min(), reconstructed_stimulus.max()\n# def update(frame):\n#     plt.clf()  # Clear the current figure\n#     plt.imshow(reconstructed_stimulus.stack('y').loc[frame], cmap='viridis', vmin=vmin, vmax=vmax)\n#     plt.axis('off')\n#     plt.title(f\"Frame {frame}\")\n\n# # Create the animation\n# fig = plt.figure()\n# ani = FuncAnimation(fig, update, frames=range(stimulus.shape[0]), interval=100)\n\n# HTML(ani.to_html5_video())"
      ]
    }
  ],
  "metadata": {
    "kernelspec": {
      "display_name": "Python 3",
      "language": "python",
      "name": "python3"
    },
    "language_info": {
      "codemirror_mode": {
        "name": "ipython",
        "version": 3
      },
      "file_extension": ".py",
      "mimetype": "text/x-python",
      "name": "python",
      "nbconvert_exporter": "python",
      "pygments_lexer": "ipython3",
      "version": "3.10.9"
    }
  },
  "nbformat": 4,
  "nbformat_minor": 0
}