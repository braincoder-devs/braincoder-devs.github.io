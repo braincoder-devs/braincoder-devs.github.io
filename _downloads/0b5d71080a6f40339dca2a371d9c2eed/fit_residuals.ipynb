{
  "cells": [
    {
      "cell_type": "markdown",
      "metadata": {},
      "source": [
        "\n# Fit the residual covariance matrix\n\nIn this example, we fit a residual noise covariance matrix to\nsimulated data from a ``VonMisesPRF``-model.\n"
      ]
    },
    {
      "cell_type": "code",
      "execution_count": null,
      "metadata": {
        "collapsed": false
      },
      "outputs": [],
      "source": [
        "# We set up a simple VonMisesPRF model\nfrom braincoder.models import VonMisesPRF\nimport numpy as np\nimport pandas as pd\n\n# Set up six evenly spaced von Mises PRFs\ncenters = np.linspace(0.0, 2*np.pi, 6, endpoint=False)\nparameters = pd.DataFrame({'mu':centers, 'kappa':1., 'amplitude':1.0, 'baseline':0.0},\n                          index=pd.Index([f'Voxel {i+1}' for i in range(6)], name='voxel')).astype(np.float32)\n\n# We have only 3 voxels, each with a linear combination of the 6 von Mises functions:\nweights = np.array([[1, 0, 1],\n                    [1, .5, 1],\n                    [0, 1, 0],\n                    [0, .5, 0],\n                    [0, 0, 1],\n                    [0, 0, 1]]).astype(np.float32)\n\nmodel = VonMisesPRF(parameters=parameters, weights=weights)\n\n# 50 random orientations\nparadigm = np.random.rand(50) * np.pi*2\n\n# Arbitrary covariance matrix\ncov = np.array([[.5, 0.0, 0.0],\n       [.25, .75, .25],\n       [.25, .25, .75]])\n\ndata = model.simulate(noise=cov, weights=weights, paradigm=paradigm)"
      ]
    },
    {
      "cell_type": "code",
      "execution_count": null,
      "metadata": {
        "collapsed": false
      },
      "outputs": [],
      "source": [
        "# Import ResidualFitter\nfrom braincoder.optimize import ResidualFitter\n\nfitter = ResidualFitter(model, data, paradigm, parameters, weights)\n\n# omega is the covariance matrix, dof can be estimated when a \n# multivariate t-distribution (rather than a normal distribution)\n# is used\nomega, dof = fitter.fit(progressbar=False)\nprint(omega)\n\n# %%"
      ]
    }
  ],
  "metadata": {
    "kernelspec": {
      "display_name": "Python 3",
      "language": "python",
      "name": "python3"
    },
    "language_info": {
      "codemirror_mode": {
        "name": "ipython",
        "version": 3
      },
      "file_extension": ".py",
      "mimetype": "text/x-python",
      "name": "python",
      "nbconvert_exporter": "python",
      "pygments_lexer": "ipython3",
      "version": "3.10.9"
    }
  },
  "nbformat": 4,
  "nbformat_minor": 0
}