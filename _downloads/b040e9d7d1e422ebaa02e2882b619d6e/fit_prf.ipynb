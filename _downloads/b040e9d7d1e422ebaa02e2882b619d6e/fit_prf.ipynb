{
  "cells": [
    {
      "cell_type": "markdown",
      "metadata": {},
      "source": [
        "\n# Different flavors of visual population receptive field models\n\nIn this example script we will try out increasingly complex models for\nvisual population receptive fields (PRFs). We will start with a simple\nGaussian PRF model, and then add more complexity step by step.\n"
      ]
    },
    {
      "cell_type": "markdown",
      "metadata": {},
      "source": [
        "## Load data\nFirst we load in the data. We will use the Szinte (2024)-dataset.\n\n"
      ]
    },
    {
      "cell_type": "code",
      "execution_count": null,
      "metadata": {
        "collapsed": false
      },
      "outputs": [],
      "source": [
        "from braincoder.utils.data import load_szinte2024\n\ndata = load_szinte2024()\n\n# This is the visual stimulus (\"design matrix\")\nparadigm = data['stimulus']\ngrid_coordinates = data['grid_coordinates']\n\n# This is the fMRI response data\nd = data['v1_timeseries']\ntr = data['tr']"
      ]
    },
    {
      "cell_type": "markdown",
      "metadata": {},
      "source": [
        "## Simple 2D Gaussian Recetive Field model\nNow we set up a simple Gaussian PRF model\n\n"
      ]
    },
    {
      "cell_type": "code",
      "execution_count": null,
      "metadata": {
        "collapsed": false
      },
      "outputs": [],
      "source": [
        "from braincoder.models import GaussianPRF2DWithHRF\nfrom braincoder.hrf import SPMHRFModel\nhrf_model = SPMHRFModel(tr=tr)\nmodel = GaussianPRF2DWithHRF(data=d, paradigm=paradigm, hrf_model=hrf_model, grid_coordinates=grid_coordinates)"
      ]
    },
    {
      "cell_type": "markdown",
      "metadata": {},
      "source": [
        "And a parameter fitter...\n\n"
      ]
    },
    {
      "cell_type": "code",
      "execution_count": null,
      "metadata": {
        "collapsed": false
      },
      "outputs": [],
      "source": [
        "from braincoder.optimize import ParameterFitter\npar_fitter = ParameterFitter(model=model, data=d, paradigm=paradigm)"
      ]
    },
    {
      "cell_type": "markdown",
      "metadata": {},
      "source": [
        "Now we try out a relatively coarse grid search to find the some\nparameters to start the gradient descent from.\n\n"
      ]
    },
    {
      "cell_type": "code",
      "execution_count": null,
      "metadata": {
        "collapsed": false
      },
      "outputs": [],
      "source": [
        "import numpy as np\nx = np.linspace(-8, 8, 10)\ny = np.linspace(-4, 4, 10)\nsd = np.linspace(0.1, 4, 10)\n\n# We start the grid search using a correlation cost, so ampltiude\n# and baseline do not influence those results.\n# We will optimize them later using OLS.\nbaseline = [0.0]\namplitude = [1.0]\n\n# Let's double-check the order of the parameters\nprint(model.parameter_labels)\n\n# Now we can do the grid search\npars_grid_search = par_fitter.fit_grid(x, y, sd, baseline, amplitude, correlation_cost=True)\n\npars_grid_search_ols = par_fitter.refine_baseline_and_amplitude(pars_grid_search)"
      ]
    }
  ],
  "metadata": {
    "kernelspec": {
      "display_name": "Python 3",
      "language": "python",
      "name": "python3"
    },
    "language_info": {
      "codemirror_mode": {
        "name": "ipython",
        "version": 3
      },
      "file_extension": ".py",
      "mimetype": "text/x-python",
      "name": "python",
      "nbconvert_exporter": "python",
      "pygments_lexer": "ipython3",
      "version": "3.10.9"
    }
  },
  "nbformat": 4,
  "nbformat_minor": 0
}