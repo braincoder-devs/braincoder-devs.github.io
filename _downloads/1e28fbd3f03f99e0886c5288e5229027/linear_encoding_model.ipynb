{
  "cells": [
    {
      "cell_type": "markdown",
      "metadata": {},
      "source": [
        "\n# Linear encoding model\n\nWhen it comes to fitting encoding models to fMRI data,\nthe most common approach is to use a linear encoding model,\nwere the predicted BOLD response is a linear combination of\ndifferent neural populations with predefined tuning properties.\n\nHere we explore such an approach.\n"
      ]
    },
    {
      "cell_type": "code",
      "execution_count": null,
      "metadata": {
        "collapsed": false
      },
      "outputs": [],
      "source": [
        "# Import necessary libraries\nfrom braincoder.models import VonMisesPRF\nimport numpy as np\nimport pandas as pd\nimport matplotlib.pyplot as plt\n\n# Set up six evenly spaced von Mises PRFs\ncenters = np.linspace(0.0, 2*np.pi, 6, endpoint=False)\nparameters = pd.DataFrame({'mu':centers, 'kappa':1., 'amplitude':1.0, 'baseline':0.0},\n                          index=pd.Index([f'Voxel {i+1}' for i in range(6)], name='voxel'))\n\n# We have 3 voxels, each with a linear combination of the 6 von Mises functions:\nweights = np.array([[1, 0, 1],\n                    [1, .5, 1],\n                    [0, 1, 0],\n                    [0, .5, 0],\n                    [0, 0, 1],\n                    [0, 0, 1]]).astype(np.float32)\n\nmodel = VonMisesPRF(parameters=parameters, weights=weights)"
      ]
    },
    {
      "cell_type": "code",
      "execution_count": null,
      "metadata": {
        "collapsed": false
      },
      "outputs": [],
      "source": [
        "# Plot the basis functions\n# Note that the function `basis_functions` returns a `tensorflow` `Tensor`,\n# which has to be converted to a numpy array:\norientations = np.linspace(0, np.pi*2, 100)\nbasis_responses = model.basis_predictions(orientations, parameters).numpy()\n\n_ = plt.plot(orientations, basis_responses)"
      ]
    },
    {
      "cell_type": "code",
      "execution_count": null,
      "metadata": {
        "collapsed": false
      },
      "outputs": [],
      "source": [
        "# Plot the predicted responses for the 3 voxels\n# Each voxel timeseries is a weighted sum of the six basis functions\npred = model.predict(paradigm=orientations)\n_ = plt.plot(orientations, pred)"
      ]
    },
    {
      "cell_type": "code",
      "execution_count": null,
      "metadata": {
        "collapsed": false
      },
      "outputs": [],
      "source": [
        "# Import the weight fitter\nfrom braincoder.optimize import WeightFitter\nfrom braincoder.utils import get_rsq\n\n# Simulate data\ndata = model.simulate(paradigm=orientations, noise=0.1)\n\n# Fit the weights\nweight_fitter = WeightFitter(model, parameters, data, orientations)\nestimated_weights = weight_fitter.fit(alpha=0.1).numpy()\n\n# Get predictions for the fitted weights\npred = model.predict(paradigm=orientations, weights=estimated_weights)\nr2 = get_rsq(data, pred)\n\n# Plot the data and the predictions\nplt.figure()\nplt.plot(orientations, data, c='k')\nplt.plot(orientations, pred.values, c='k', ls='--')\nplt.title(f'R2 = {r2.mean():.2f}')\n# %%"
      ]
    }
  ],
  "metadata": {
    "kernelspec": {
      "display_name": "Python 3",
      "language": "python",
      "name": "python3"
    },
    "language_info": {
      "codemirror_mode": {
        "name": "ipython",
        "version": 3
      },
      "file_extension": ".py",
      "mimetype": "text/x-python",
      "name": "python",
      "nbconvert_exporter": "python",
      "pygments_lexer": "ipython3",
      "version": "3.10.9"
    }
  },
  "nbformat": 4,
  "nbformat_minor": 0
}