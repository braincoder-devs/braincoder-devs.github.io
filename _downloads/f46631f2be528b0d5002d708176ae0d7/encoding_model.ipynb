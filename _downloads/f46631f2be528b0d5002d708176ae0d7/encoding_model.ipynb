{
  "cells": [
    {
      "cell_type": "markdown",
      "metadata": {},
      "source": [
        "\n# Create a simple Gaussian Prf encoding model\n\nIn this example, we create a Gaussian PRF model and plot the predictions.\nWe also simulate data and then estimate back the generating parameters.\n"
      ]
    },
    {
      "cell_type": "code",
      "execution_count": null,
      "metadata": {
        "collapsed": false
      },
      "outputs": [],
      "source": [
        "# Import necessary libraries\nfrom braincoder.models import GaussianPRF\nimport pandas as pd\nimport numpy as np\n\n# We set up two PRFS, one centered at 1 and one centered at -2\n# The first one has a sd of 1 and the second one has a sd of 1.5\nparameters = [{'mu':1.0, 'sd':1.0, 'amplitude':1.0, 'baseline':0.0},\n              {'mu':-2., 'sd':1.5, 'amplitude':1.0, 'baseline':0.0}\n              ]\nparameters = pd.DataFrame(parameters, index=['voxel 1', 'voxel 2'])\n\n# We have a virtual experimental paradigm where we go from -5 to 5\nparadigm = np.linspace(-5, 5, 100)\n\n# Set up the model.\nmodel = GaussianPRF(paradigm=paradigm, parameters=parameters)\n\n# Extract and plot the predictions\npredictions = model.predict()\npredictions.index = pd.Index(paradigm, name='Stimulus value')\nax = predictions.plot()"
      ]
    },
    {
      "cell_type": "code",
      "execution_count": null,
      "metadata": {
        "collapsed": false
      },
      "outputs": [],
      "source": [
        "# We simulate data with a bit of noise\ndata = model.simulate(noise=0.2)\ndata.plot()"
      ]
    },
    {
      "cell_type": "code",
      "execution_count": null,
      "metadata": {
        "collapsed": false
      },
      "outputs": [],
      "source": [
        "# Import and set up a parameter fitter with the (simulated) data,\n# the paradigm, and the model\nfrom braincoder.optimize import ParameterFitter\nfrom braincoder.utils import get_rsq\n\noptimizer = ParameterFitter(model, data=data, paradigm=paradigm)\n\n# Set up a grid search over the parameters\npossible_mus = np.linspace(-5, 5, 10)\npossible_sds = np.linspace(0.1, 5, 10)\n\n# For the grid search we use a correlation cost function, so we can fit\n# the amplitude an baseline later using OLS\npossible_amplitudes = [1.0]\npossible_baselines = [0.0]\n\n# Fit the grid\ngrid_pars = optimizer.fit_grid(possible_mus, possible_sds, possible_amplitudes, possible_baselines, use_correlation_cost=True, progressbar=False)\n\n# Show the results\ngrid_pars"
      ]
    },
    {
      "cell_type": "code",
      "execution_count": null,
      "metadata": {
        "collapsed": false
      },
      "outputs": [],
      "source": [
        "# We can now fit the amplitude and baseline using OLS\ngrid_pars = optimizer.refine_baseline_and_amplitude(grid_pars)\n\n# Show the fitted timeseries\nimport matplotlib.pyplot as plt\nimport seaborn as sns\npalette = sns.color_palette()\ngrid_pred = model.predict(parameters=grid_pars)\n\n# See how well the predictions align with the data\n# using the explained variance statistic\nr2_grid = get_rsq(data, grid_pred)\n\nplt.plot(paradigm, data)\nplt.plot(paradigm, grid_pred, ls='--', c='k', label='Grid prediction')\nplt.title(f'R2 = {r2_grid.mean():.2f}')"
      ]
    },
    {
      "cell_type": "code",
      "execution_count": null,
      "metadata": {
        "collapsed": false
      },
      "outputs": [],
      "source": [
        "# Final optimisation using gradient descent:\ngd_pars = optimizer.fit(init_pars=grid_pars, progressbar=False)\ngd_pred = model.predict(parameters=gd_pars)\n\nr2_gd = get_rsq(data, gd_pred)\n\nplt.plot(paradigm, data)\nplt.plot(paradigm, grid_pred, ls='--', c='k', alpha=0.5, label='Grid prediction')\nplt.plot(paradigm, gd_pred, ls='--', c='k', label='Gradient descent prediction')\nplt.title(f'R2 = {r2_gd.mean():.2f}')"
      ]
    }
  ],
  "metadata": {
    "kernelspec": {
      "display_name": "Python 3",
      "language": "python",
      "name": "python3"
    },
    "language_info": {
      "codemirror_mode": {
        "name": "ipython",
        "version": 3
      },
      "file_extension": ".py",
      "mimetype": "text/x-python",
      "name": "python",
      "nbconvert_exporter": "python",
      "pygments_lexer": "ipython3",
      "version": "3.10.9"
    }
  },
  "nbformat": 4,
  "nbformat_minor": 0
}