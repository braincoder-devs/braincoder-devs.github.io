{
  "cells": [
    {
      "cell_type": "markdown",
      "metadata": {},
      "source": [
        "\n# Different flavors of visual population receptive field models\n\nIn this example script we will try out increasingly complex models for\nvisual population receptive fields (PRFs). We will start with a simple\nGaussian PRF model, and then add more complexity step by step.\n"
      ]
    },
    {
      "cell_type": "markdown",
      "metadata": {},
      "source": [
        "## Load data\nFirst we load in the data. We will use the Szinte (2024)-dataset.\n\n"
      ]
    },
    {
      "cell_type": "code",
      "execution_count": null,
      "metadata": {
        "collapsed": false
      },
      "outputs": [],
      "source": [
        "from braincoder.utils.data import load_szinte2024\nimport matplotlib.pyplot as plt\n\ndata = load_szinte2024()\n\n# This is the visual stimulus (\"design matrix\")\nparadigm = data['stimulus']\ngrid_coordinates = data['grid_coordinates']\n\n# This is the fMRI response data\nd = data['v1_timeseries']\nd.index.name = 'frame'\ntr = data['tr']"
      ]
    },
    {
      "cell_type": "markdown",
      "metadata": {},
      "source": [
        "## Simple 2D Gaussian Recetive Field model\nNow we set up a simple Gaussian PRF model\n\n"
      ]
    },
    {
      "cell_type": "code",
      "execution_count": null,
      "metadata": {
        "collapsed": false
      },
      "outputs": [],
      "source": [
        "from braincoder.models import GaussianPRF2DWithHRF\nfrom braincoder.hrf import SPMHRFModel\nhrf_model = SPMHRFModel(tr=tr)\nmodel_gauss = GaussianPRF2DWithHRF(data=d, paradigm=paradigm, hrf_model=hrf_model, grid_coordinates=grid_coordinates)"
      ]
    },
    {
      "cell_type": "markdown",
      "metadata": {},
      "source": [
        "And a parameter fitter...\n\n"
      ]
    },
    {
      "cell_type": "code",
      "execution_count": null,
      "metadata": {
        "collapsed": false
      },
      "outputs": [],
      "source": [
        "from braincoder.optimize import ParameterFitter\npar_fitter = ParameterFitter(model=model_gauss, data=d, paradigm=paradigm)"
      ]
    },
    {
      "cell_type": "markdown",
      "metadata": {},
      "source": [
        "Now we try out a relatively coarse grid search to find the some\nparameters to start the gradient descent from.\n\n"
      ]
    },
    {
      "cell_type": "code",
      "execution_count": null,
      "metadata": {
        "collapsed": false
      },
      "outputs": [],
      "source": [
        "import numpy as np\nx = np.linspace(-8, 8, 10)\ny = np.linspace(-4, 4, 10)\nsd = np.linspace(0.1, 4, 10)\n\n# We start the grid search using a correlation cost, so ampltiude\n# and baseline do not influence those results.\n# We will optimize them later using OLS.\nbaseline = [0.0]\namplitude = [1.0]\n\n# Now we can do the grid search\npars_gauss_grid = par_fitter.fit_grid(x, y, sd, baseline, amplitude, correlation_cost=True)\n\n# And refine the baseline and amplitude parameters using OLS\npars_gauss_ols = par_fitter.refine_baseline_and_amplitude(pars_gauss_grid)"
      ]
    },
    {
      "cell_type": "markdown",
      "metadata": {},
      "source": [
        "Here we can plot the resulting r2s of the grid search\n\n"
      ]
    },
    {
      "cell_type": "code",
      "execution_count": null,
      "metadata": {
        "collapsed": false
      },
      "outputs": [],
      "source": [
        "r2_gauss_ols = par_fitter.get_rsq(pars_gauss_ols)\n\nimport seaborn as sns\nsns.kdeplot(r2_gauss_ols, shade=True)\nsns.despine()"
      ]
    },
    {
      "cell_type": "markdown",
      "metadata": {},
      "source": [
        "We can substantially improve the fit by using gradient descent optimisation\n\n"
      ]
    },
    {
      "cell_type": "code",
      "execution_count": null,
      "metadata": {
        "collapsed": false
      },
      "outputs": [],
      "source": [
        "pars_gauss_gd = par_fitter.fit(init_pars=pars_gauss_ols, max_n_iterations=1000)"
      ]
    },
    {
      "cell_type": "code",
      "execution_count": null,
      "metadata": {
        "collapsed": false
      },
      "outputs": [],
      "source": [
        "r2_gauss_gd = par_fitter.get_rsq(pars_gauss_gd)\nsns.kdeplot(r2_gauss_gd, shade=True)\n\nimport pandas as pd\nr2 = pd.concat((r2_gauss_ols, r2_gauss_gd), keys=['r2_ols', 'r2_gd'], axis=1)"
      ]
    },
    {
      "cell_type": "markdown",
      "metadata": {},
      "source": [
        "Clearly, the gradient descent optimization improves the fit substantially.\n\n"
      ]
    },
    {
      "cell_type": "code",
      "execution_count": null,
      "metadata": {
        "collapsed": false
      },
      "outputs": [],
      "source": [
        "sns.relplot(x='r2_ols', y='r2_gd', data=r2.reset_index(), kind='scatter')\nplt.plot([0, 1], [0, 1], 'k--')\n#\n#  %%"
      ]
    },
    {
      "cell_type": "markdown",
      "metadata": {},
      "source": [
        "## Fit HRFs\nThe standard canonical (SPM) HRF we use is often not a great fit to actual\ndata. To better account for the HRF. We can optimize the HRFs per voxel.\nWe first initialize a GaussianPRF-model with a flexible HRF.\n\n"
      ]
    },
    {
      "cell_type": "code",
      "execution_count": null,
      "metadata": {
        "collapsed": false
      },
      "outputs": [],
      "source": [
        "model_hrf = GaussianPRF2DWithHRF(data=d, paradigm=paradigm, hrf_model=hrf_model,\n                             grid_coordinates=grid_coordinates, flexible_hrf_parameters=True)\n\npar_fitter_hrf = ParameterFitter(model=model_hrf, data=d, paradigm=paradigm)\n\n# We set hrf_delay and hrf_dispersion to standard values\npars_gauss_gd['hrf_delay'] = 6\npars_gauss_gd['hrf_dispersion'] = 1\n\npars_gauss_hrf = par_fitter_hrf.fit(init_pars=pars_gauss_gd, max_n_iterations=1000)"
      ]
    },
    {
      "cell_type": "code",
      "execution_count": null,
      "metadata": {
        "collapsed": false
      },
      "outputs": [],
      "source": [
        "r2_gauss_hrf = par_fitter_hrf.get_rsq(pars_gauss_hrf)\n\nr2 = pd.concat((r2_gauss_gd, r2_gauss_hrf), keys=['r2_gd', 'r2_hrf'], axis=1)\nsns.relplot(x='r2_gd', y='r2_hrf', data=r2.reset_index(), kind='scatter')\nplt.plot([0, 1], [0, 1], 'k--')"
      ]
    },
    {
      "cell_type": "markdown",
      "metadata": {},
      "source": [
        "Here we plot the predicted time courses of the original model\nand the model with the optimized HRFs for 9 voxels where the fit\nimproved the most. You can clearly see that, in general, the\nHRFs have shorter delays than the default setting.\n\n"
      ]
    },
    {
      "cell_type": "code",
      "execution_count": null,
      "metadata": {
        "collapsed": false
      },
      "outputs": [],
      "source": [
        "improvement = r2_gauss_hrf - r2_gauss_gd\nlargest_improvements = improvement.sort_values(ascending=False).index[:9]\npred_gauss_gd = model_gauss.predict(parameters=pars_gauss_gd)\npred_gauss_hrf = model_hrf.predict(parameters=pars_gauss_hrf)\npred = pd.concat((d.loc[:, largest_improvements], pred_gauss_gd.loc[:, largest_improvements], pred_gauss_hrf.loc[:, largest_improvements]), axis=1, keys=['data', 'gauss', 'gauss+hrf'], names=['model'])\n\n#\ntmp = pred.stack(['model', 'source']).to_frame('value')\nsns.relplot(x='frame', y='value', hue='model', col='source', data=tmp.reset_index(), kind='line', col_wrap=3)"
      ]
    },
    {
      "cell_type": "markdown",
      "metadata": {},
      "source": [
        "## Fit a Difference of Gaussians model\nNow we will try to fit a Difference of Gaussians model. This model\nhas two Gaussian receptive fields, one excitatory and one inhibitory.\nThe inhibitory receptive field is subtracted from the excitatory one.\nThe resulting receptive field is then convolved with the HRF.\n\n"
      ]
    },
    {
      "cell_type": "code",
      "execution_count": null,
      "metadata": {
        "collapsed": false
      },
      "outputs": [],
      "source": [
        "from braincoder.models import DifferenceOfGaussiansPRF2DWithHRF\nmodel_dog = DifferenceOfGaussiansPRF2DWithHRF(data=d, paradigm=paradigm, hrf_model=hrf_model,\n                                         grid_coordinates=grid_coordinates, flexible_hrf_parameters=True)\n\npars_dog_init = pars_gauss_hrf.copy()\n# This is the relative amplitude of the inhibitory receptive field\n# compared to the excitatory one.\npars_dog_init['srf_amplitude'] = 0.1\n\n# This is the relative size of the inhibitory receptive field\n# compared to the excitatory one.\npars_dog_init['srf_size'] = 2.\n\n# Let's set up a new parameterfitter \npar_fitter_dog = ParameterFitter(model=model_dog, data=d, paradigm=paradigm)\n\n# Note how, for now, we are not optimizing the HRF parameters.\npars_dog = par_fitter_dog.fit(init_pars=pars_dog_init, max_n_iterations=1000,\n                              fixed_pars=['hrf_delay', 'hrf_dispersion'])\n\n# Now we optimize _with_ the HRF parameters\npars_dog_hrf = par_fitter_dog.fit(init_pars=pars_dog, max_n_iterations=1000)\n\nr2_dog_hrf = par_fitter_dog.get_rsq(pars_dog_hrf)\n\nsns.relplot(x='r2_hrf', y='r2_dog_hrf', data=pd.concat((r2_gauss_hrf, r2_dog_hrf), axis=1,\n                                                       keys=['r2_hrf', 'r2_dog_hrf']).reset_index(), kind='scatter')"
      ]
    },
    {
      "cell_type": "markdown",
      "metadata": {},
      "source": [
        "Here, we plot the predicted time courses of the difference-of-gaussians\nmodel versus the original Gaussian model for the 9 voxels where the fit\nimoproved the most.\n\n"
      ]
    },
    {
      "cell_type": "code",
      "execution_count": null,
      "metadata": {
        "collapsed": false
      },
      "outputs": [],
      "source": [
        "improvement = r2_dog_hrf - r2_gauss_hrf\nlargest_improvements = improvement.sort_values(ascending=False).index[:9]\npred_dog_hrf = model_dog.predict(parameters=pars_dog_hrf)\npred = pd.concat((d.loc[:, largest_improvements], pred_gauss_hrf.loc[:, largest_improvements], pred_dog_hrf.loc[:, largest_improvements]), axis=1, keys=['data', 'gauss+hrf', 'dog+hrf'], names=['model'])\n\ntmp = pred.stack(['model', 'source']).to_frame('value')\nsns.relplot(x='frame', y='value', hue='model', col='source', data=tmp.reset_index(), kind='line', col_wrap=3,\n            palette=['k'] + sns.color_palette(),\n            hue_order=['data', 'gauss+hrf', 'dog+hrf'])"
      ]
    },
    {
      "cell_type": "markdown",
      "metadata": {},
      "source": [
        "## Divisve Normalization PRF model\nThe most complex model we have is the DN-PRF model (Aqil et al., 2021).\nThis model has a Gaussian excitatory receptive field, and a Gaussian\ninhibitory receptive field. The excitatory receptive field is divided\nby the sum of the excitatory and inhibitory receptive fields. \nThe resulting receptive field is then convolved with the HRF.\n\n"
      ]
    },
    {
      "cell_type": "code",
      "execution_count": null,
      "metadata": {
        "collapsed": false
      },
      "outputs": [],
      "source": [
        "from braincoder.models import DivisiveNormalizationGaussianPRF2DWithHRF\nmodel_dn = DivisiveNormalizationGaussianPRF2DWithHRF(data=d,\n                                              paradigm=paradigm,\n                                              hrf_model=hrf_model,\n                                              grid_coordinates=grid_coordinates,\n                                              flexible_hrf_parameters=True)\n\npars_dn_init = pars_dog_hrf.copy()\npars_dn_init['srf_amplitude'] = 0.01\npars_dn_init['srf_size'] = 2.\npars_dn_init['baseline'] = 0.0\npars_dn_init['neural_baseline'] = 1.0\npars_dn_init['surround_baseline'] = 1.0\n\npar_fitter_dn = ParameterFitter(model=model_dn, data=d, paradigm=paradigm)\n# Without HRF\npars_dn = par_fitter_dn.fit(init_pars=pars_dn_init, max_n_iterations=1000, fixed_pars=['hrf_delay', 'hrf_dispersion'])\n\n# With HRF\npars_dn = par_fitter_dn.fit(init_pars=pars_dn, max_n_iterations=1000)"
      ]
    },
    {
      "cell_type": "markdown",
      "metadata": {},
      "source": [
        "Again, let's  plot the R2 improvements\n\n"
      ]
    },
    {
      "cell_type": "code",
      "execution_count": null,
      "metadata": {
        "collapsed": false
      },
      "outputs": [],
      "source": [
        "r2_dn = par_fitter_dn.get_rsq(pars_dn)\nsns.relplot(x='r2_dog_hrf', y='r2_dn', data=pd.concat((r2_dog_hrf, r2_dn), axis=1,\n                                                       keys=['r2_dog_hrf', 'r2_dn']).reset_index(), kind='scatter')\n\nplt.plot([0, 1], [0, 1], 'k--')"
      ]
    },
    {
      "cell_type": "code",
      "execution_count": null,
      "metadata": {
        "collapsed": false
      },
      "outputs": [],
      "source": [
        "improvement = r2_dn - r2_dog_hrf\nlargest_improvements = improvement.sort_values(ascending=False).index[:9]\n\npred_dn = model_dn.predict(parameters=pars_dn)\npred = pd.concat((d.loc[:, largest_improvements], pred_dog_hrf.loc[:, largest_improvements], pred_dn.loc[:, largest_improvements]), axis=1, keys=['data', 'dog+hrf', 'dn+hrf'], names=['model'])\n\ntmp = pred.stack(['model', 'source']).to_frame('value')\nsns.relplot(x='frame', y='value', hue='model', col='source', data=tmp.reset_index(), kind='line', col_wrap=3,\n            palette=['k'] + sns.color_palette(),\n            hue_order=['data', 'dog+hrf', 'dn+hrf'])"
      ]
    },
    {
      "cell_type": "code",
      "execution_count": null,
      "metadata": {
        "collapsed": false
      },
      "outputs": [],
      "source": [
        "# Decoding\n# --------\n# We can also use the fitted models to decode the stimulus from the\n# fMRI response. Let's compare our simplest model versus our most\n# complex model.\n\n# First we fit the noise models\nfrom braincoder.optimize import ResidualFitter, StimulusFitter\n\n# Let's first get grid coordinates and paradigm at a slightly lower resolution\ndata = load_szinte2024(resize_factor=2.5)\ngrid_coordinates = data['grid_coordinates']\nparadigm = data['stimulus']\n\nbest_voxels_gauss = r2_gauss_gd[pars_gauss_gd['sd'] > 0.5].sort_values(ascending=False).index[:200]\n\nmodel_gauss = GaussianPRF2DWithHRF(data=d[best_voxels_gauss],\n                                   hrf_model=hrf_model,\n                                   grid_coordinates=grid_coordinates.astype(np.float32),\n                                   parameters=pars_gauss_gd.loc[best_voxels_gauss].astype(np.float32))\n\nresid_fitter_gauss = ResidualFitter(model=model_gauss, data=d.loc[:, best_voxels_gauss],\n                                    paradigm=paradigm.astype(np.float32), parameters=pars_gauss_gd.loc[best_voxels_gauss].astype(np.float32))\nomega_gauss, _ = resid_fitter_gauss.fit()"
      ]
    },
    {
      "cell_type": "code",
      "execution_count": null,
      "metadata": {
        "collapsed": false
      },
      "outputs": [],
      "source": [
        "best_voxels_dn = r2_dn[pars_dn['sd'] > 0.5].sort_values(ascending=False).index[:200]\n\nmodel_dn = DivisiveNormalizationGaussianPRF2DWithHRF(data=d[best_voxels_dn], \n                                              hrf_model=hrf_model,\n                                              grid_coordinates=grid_coordinates.astype(np.float32),\n                                              parameters=pars_dn.loc[best_voxels_dn].astype(np.float32))\n\nresid_fitter_dn = ResidualFitter(model=model_dn, data=d.loc[:, best_voxels_dn],\n                                    paradigm=paradigm, parameters=pars_dn.loc[best_voxels_dn])\n\nomega_dn, _ = resid_fitter_dn.fit()"
      ]
    },
    {
      "cell_type": "markdown",
      "metadata": {},
      "source": [
        "# Decoded stimulus: Gaussian model\nNow we can decode the stimulus from the fMRI responses\n\n"
      ]
    },
    {
      "cell_type": "code",
      "execution_count": null,
      "metadata": {
        "collapsed": false
      },
      "outputs": [],
      "source": [
        "stim_fitter_gauss = StimulusFitter(model=model_gauss, data=d.loc[:, best_voxels_gauss], omega=omega_gauss)\nstim_gauss = stim_fitter_gauss.fit(l2_norm=0.01, learning_rate=0.01, max_n_iterations=1000)"
      ]
    },
    {
      "cell_type": "code",
      "execution_count": null,
      "metadata": {
        "collapsed": false
      },
      "outputs": [],
      "source": [
        "from matplotlib.animation import FuncAnimation\nfrom IPython.display import HTML\n\ndef play_reconstruction(reconstructed_stimulus):\n\n  # Here we make a movie of the decoded stimulus\n  # Set up a function to draw a single frame\n  vmin, vmax = 0.0, np.quantile(reconstructed_stimulus.values.ravel(), 0.99)\n\n  def update(frame):\n      plt.clf()  # Clear the current figure\n      plt.imshow(reconstructed_stimulus.stack('y').loc[frame].iloc[::-1, :], cmap='viridis', vmin=vmin, vmax=vmax)\n      plt.axis('off')\n      plt.title(f\"Frame {frame}\")\n\n  # Create the animation\n  fig = plt.figure()\n  ani = FuncAnimation(fig, update, frames=range(paradigm.shape[0]), interval=100)\n\n  return HTML(ani.to_html5_video())\n\nplay_reconstruction(stim_gauss)"
      ]
    },
    {
      "cell_type": "markdown",
      "metadata": {},
      "source": [
        "# Decoded stimulus: DN model\n\n"
      ]
    },
    {
      "cell_type": "code",
      "execution_count": null,
      "metadata": {
        "collapsed": false
      },
      "outputs": [],
      "source": [
        "stim_fitter_dn = StimulusFitter(model=model_dn, data=d.loc[:, best_voxels_dn], omega=omega_dn)\nstim_dn = stim_fitter_dn.fit(l2_norm=0.01, learning_rate=0.01, max_n_iterations=1000)"
      ]
    },
    {
      "cell_type": "code",
      "execution_count": null,
      "metadata": {
        "collapsed": false
      },
      "outputs": [],
      "source": [
        "play_reconstruction(stim_dn)\n# As you can see, the DN model works a lot better than the Gaussian model. ;)"
      ]
    }
  ],
  "metadata": {
    "kernelspec": {
      "display_name": "Python 3",
      "language": "python",
      "name": "python3"
    },
    "language_info": {
      "codemirror_mode": {
        "name": "ipython",
        "version": 3
      },
      "file_extension": ".py",
      "mimetype": "text/x-python",
      "name": "python",
      "nbconvert_exporter": "python",
      "pygments_lexer": "ipython3",
      "version": "3.10.9"
    }
  },
  "nbformat": 4,
  "nbformat_minor": 0
}