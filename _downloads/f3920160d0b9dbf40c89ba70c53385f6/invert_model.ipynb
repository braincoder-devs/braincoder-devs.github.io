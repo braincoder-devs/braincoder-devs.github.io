{
  "cells": [
    {
      "cell_type": "markdown",
      "metadata": {},
      "source": [
        "\n# Invert encoding model\n\nHere we invert different encoding models\n"
      ]
    },
    {
      "cell_type": "code",
      "execution_count": null,
      "metadata": {
        "collapsed": false
      },
      "outputs": [],
      "source": [
        "import scipy.stats as ss\nimport matplotlib.pyplot as plt\nimport seaborn as sns\nimport numpy as np\n\nplt.title('Hypothetical RF + response')\nx = np.linspace(0, 2*np.pi)\ndist = ss.vonmises(loc=.5*np.pi, kappa=1.)\n\nplt.plot(x, dist.pdf(x), c='k', ls='--', label='Receptive field')\ny =dist.pdf(7./8.*np.pi) \nplt.plot(x, np.ones_like(x)*y, c='k', ls='-')\nplt.fill_between(x, y-0.025, y+0.025, alpha=.25, color='k', label='Measured activity')\n\nplt.scatter(1./8.*np.pi, y, c='k')\nplt.scatter(7./8.*np.pi, y, c='k')\n\nplt.xticks([0.0, .5*np.pi, np.pi, 1.5*np.pi, 2*np.pi], ['0', '1/2 $\\pi$', '$\\pi$', '1.5 $\\pi$', '2 $\\pi$'])\nsns.despine()\n\nplt.legend()"
      ]
    },
    {
      "cell_type": "code",
      "execution_count": null,
      "metadata": {
        "collapsed": false
      },
      "outputs": [],
      "source": [
        "# We set up a simple VonMisesPRF model\nfrom braincoder.models import VonMisesPRF\nimport pandas as pd\nimport numpy as np\n\n# Set up six evenly spaced von Mises PRFs\nparameters = pd.DataFrame([{'mu':0.5*np.pi, 'kappa':1., 'amplitude':1.0, 'baseline':0.0}]).astype(np.float32)\nweights = np.array([[1]]).astype(np.float32)\n\nmodel = VonMisesPRF(parameters=parameters, weights=weights)\nomega = np.array([[0.1]]).astype(np.float32)\n\ndata = pd.DataFrame([y]).astype(np.float32)"
      ]
    },
    {
      "cell_type": "code",
      "execution_count": null,
      "metadata": {
        "collapsed": false
      },
      "outputs": [],
      "source": [
        "# Evaluate the likelihood of different possible orientations\norientations = np.linspace(0.0, 2*np.pi).astype(np.float32)\nlikelihood = model.likelihood(orientations, data, parameters, weights, omega)\n\n# And plot it..\nplt.figure()\nplt.plot(orientations, likelihood.T, c='k')\nplt.xticks([0.0, .5*np.pi, np.pi, 1.5*np.pi, 2*np.pi], ['0', '1/2 $\\pi$', '$\\pi$', '1.5 $\\pi$', '2 $\\pi$'])\n\nsns.despine()\nplt.xlabel('Orientation')\nplt.ylabel('Likelihood')"
      ]
    },
    {
      "cell_type": "code",
      "execution_count": null,
      "metadata": {
        "collapsed": false
      },
      "outputs": [],
      "source": [
        "# Simulate two-RF model\npalette = sns.color_palette()\n\nplt.title('Hypothetical RF + response')\nx = np.linspace(0, 2*np.pi)\ndist1 = ss.vonmises(loc=.5*np.pi, kappa=.5)\ndist2 = ss.vonmises(loc=1.*np.pi, kappa=.5)\n\nplt.plot(x, dist1.pdf(x), ls='--', label='Receptive field 1', color=palette[0])\nplt.plot(x, dist2.pdf(x), ls='--', label='Receptive field 2', color=palette[1])\n\n\ny1 =dist1.pdf(7./8.*np.pi) \ny2 =dist2.pdf(7./8.*np.pi) \n\nplt.plot(x, np.ones_like(x)*y1, c=palette[0], ls='-')\nplt.plot(x, np.ones_like(x)*y2, c=palette[1], ls='-')\n\nplt.fill_between(x, y1-0.025, y1+0.025, alpha=.25, color=palette[0], label='Measured activity RF1')\nplt.fill_between(x, y2-0.025, y2+0.025, alpha=.25, color=palette[1], label='Measured activity RF2')\n\nplt.xticks([0.0, .5*np.pi, np.pi, 1.5*np.pi, 2*np.pi], ['0', '1/2 $\\pi$', '$\\pi$', '1.5 $\\pi$', '2 $\\pi$'])\nsns.despine()\nplt.legend()"
      ]
    },
    {
      "cell_type": "code",
      "execution_count": null,
      "metadata": {
        "collapsed": false
      },
      "outputs": [],
      "source": [
        "# Set up 2-dimensional model to invert\nparameters = pd.DataFrame([{'mu':0.5*np.pi, 'kappa':.5, 'amplitude':1.0, 'baseline':0.0},\n                           {'mu':1.*np.pi, 'kappa':.5, 'amplitude':1.0, 'baseline':0.0}]).astype(np.float32)\n\nmodel = VonMisesPRF(parameters=parameters)\nomega = np.array([[0.05, 0.0], [0.0, 0.05]]).astype(np.float32)\n\ndist1 = ss.vonmises(loc=.5*np.pi, kappa=.5)\ndist2 = ss.vonmises(loc=1.*np.pi, kappa=.5)\nx = 7./8.*np.pi\ny1 =dist1.pdf(x) \ny2 =dist2.pdf(x) \n\ndata = pd.DataFrame([[y1, y2]]).astype(np.float32)\n\nlikelihood = model.likelihood(orientations, data, parameters, None, omega)\n\nplt.plot(orientations, likelihood.T, c='k')\nplt.xticks([0.0, .5*np.pi, np.pi, 1.5*np.pi, 2*np.pi], ['0', '1/2 $\\pi$', '$\\pi$', '1.5 $\\pi$', '2 $\\pi$'])\n\nsns.despine()\nplt.xlabel('Orientation')\nplt.ylabel('Likelihood')\n# %%"
      ]
    }
  ],
  "metadata": {
    "kernelspec": {
      "display_name": "Python 3",
      "language": "python",
      "name": "python3"
    },
    "language_info": {
      "codemirror_mode": {
        "name": "ipython",
        "version": 3
      },
      "file_extension": ".py",
      "mimetype": "text/x-python",
      "name": "python",
      "nbconvert_exporter": "python",
      "pygments_lexer": "ipython3",
      "version": "3.10.9"
    }
  },
  "nbformat": 4,
  "nbformat_minor": 0
}